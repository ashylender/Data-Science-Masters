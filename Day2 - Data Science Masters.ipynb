{
 "cells": [
  {
   "cell_type": "markdown",
   "id": "c229c0cf-224a-4f3e-9b80-af103ba531f9",
   "metadata": {},
   "source": [
    "Day-2 Data science masters"
   ]
  },
  {
   "cell_type": "markdown",
   "id": "7829699e-9d7c-4074-a5ca-1029c8dad064",
   "metadata": {},
   "source": [
    "a = 10\n",
    "a"
   ]
  },
  {
   "cell_type": "code",
   "execution_count": 3,
   "id": "a3849a09-d44e-4954-ba54-5e49e337770c",
   "metadata": {},
   "outputs": [
    {
     "data": {
      "text/plain": [
       "int"
      ]
     },
     "execution_count": 3,
     "metadata": {},
     "output_type": "execute_result"
    }
   ],
   "source": [
    "type(a)"
   ]
  },
  {
   "cell_type": "code",
   "execution_count": 4,
   "id": "e52d4eaf-edcd-49e1-8374-1fd60204a8aa",
   "metadata": {},
   "outputs": [
    {
     "data": {
      "text/plain": [
       "0"
      ]
     },
     "execution_count": 4,
     "metadata": {},
     "output_type": "execute_result"
    }
   ],
   "source": [
    "int()"
   ]
  },
  {
   "cell_type": "code",
   "execution_count": 5,
   "id": "d9f18107-d8df-48f7-9a74-d2cb26652daf",
   "metadata": {},
   "outputs": [
    {
     "data": {
      "text/plain": [
       "123"
      ]
     },
     "execution_count": 5,
     "metadata": {},
     "output_type": "execute_result"
    }
   ],
   "source": [
    "int('123')"
   ]
  },
  {
   "cell_type": "code",
   "execution_count": 6,
   "id": "0a8d0c19-96b5-4175-a137-2509ac9b3169",
   "metadata": {},
   "outputs": [
    {
     "name": "stdout",
     "output_type": "stream",
     "text": [
      "Hello world\n"
     ]
    }
   ],
   "source": [
    "print(\"Hello world\")"
   ]
  },
  {
   "cell_type": "code",
   "execution_count": 7,
   "id": "536f7982-2131-463b-a456-9cd38d30ca56",
   "metadata": {},
   "outputs": [
    {
     "name": "stdout",
     "output_type": "stream",
     "text": [
      "123\n"
     ]
    }
   ],
   "source": [
    "print(123)"
   ]
  },
  {
   "cell_type": "code",
   "execution_count": 8,
   "id": "cf1754f8-5ad2-430f-923f-a0e712f8e138",
   "metadata": {},
   "outputs": [
    {
     "name": "stdout",
     "output_type": "stream",
     "text": [
      "My age is 32\n"
     ]
    }
   ],
   "source": [
    "age=35\n",
    "print(\"My age is 32\")"
   ]
  },
  {
   "cell_type": "code",
   "execution_count": 11,
   "id": "d23a85be-5699-4dce-8126-553101eaf941",
   "metadata": {},
   "outputs": [
    {
     "name": "stdout",
     "output_type": "stream",
     "text": [
      "My age is 32\n"
     ]
    }
   ],
   "source": [
    "print(f\"My age is {32}\") # f string"
   ]
  },
  {
   "cell_type": "code",
   "execution_count": 12,
   "id": "1a06ec19-0490-4b8f-9353-f75fbedde406",
   "metadata": {},
   "outputs": [
    {
     "name": "stdout",
     "output_type": "stream",
     "text": [
      "My age is {32}\n"
     ]
    }
   ],
   "source": [
    "print(\"My age is {32}\") # with out f string"
   ]
  },
  {
   "cell_type": "code",
   "execution_count": 13,
   "id": "366ab08a-4709-4da5-9bfe-684d3e1c7862",
   "metadata": {},
   "outputs": [
    {
     "name": "stdout",
     "output_type": "stream",
     "text": [
      "My name is Shylender and age is 32\n"
     ]
    }
   ],
   "source": [
    "#format()\n",
    "name = \"Shylender\"\n",
    "age = 32\n",
    "print(\"My name is {} and age is {}\".format(name, age))"
   ]
  },
  {
   "cell_type": "code",
   "execution_count": 14,
   "id": "345e9921-9acc-4fcc-88a5-944e36486c83",
   "metadata": {},
   "outputs": [
    {
     "name": "stdout",
     "output_type": "stream",
     "text": [
      "My name is 32 and age is Shylender\n"
     ]
    }
   ],
   "source": [
    "#format()\n",
    "name = \"Shylender\"\n",
    "age = 32\n",
    "print(\"My name is {} and age is {}\".format(age, name))"
   ]
  },
  {
   "cell_type": "code",
   "execution_count": 15,
   "id": "31ed01ce-7854-4c23-a530-d910707bd2ac",
   "metadata": {},
   "outputs": [
    {
     "name": "stdout",
     "output_type": "stream",
     "text": [
      "My name is Shylender and age is 32\n"
     ]
    }
   ],
   "source": [
    "#placeholder\n",
    "print(\"My name is {firstname} and age is {firstage}\".format(firstname=name, firstage=age))"
   ]
  },
  {
   "cell_type": "code",
   "execution_count": 16,
   "id": "f0436ba8-37d3-4344-8ec5-f705a3cccefc",
   "metadata": {},
   "outputs": [
    {
     "name": "stdout",
     "output_type": "stream",
     "text": [
      "My age is 35 and i have completed: my degree of MCA with the name of Shylender Adi\n"
     ]
    }
   ],
   "source": [
    "name = \"Shylender Adi\"\n",
    "age = 35\n",
    "degree = \"MCA\"\n",
    "print(f\"My age is {age} and i have completed: my degree of {degree} with the name of {name}\")"
   ]
  },
  {
   "cell_type": "code",
   "execution_count": 18,
   "id": "754e2294-c89a-4502-8409-04076362bdcd",
   "metadata": {},
   "outputs": [
    {
     "name": "stdout",
     "output_type": "stream",
     "text": [
      "My age is 35 and i have completed: my degree of MCA with the name of Shylender Adi\n"
     ]
    }
   ],
   "source": [
    "name = \"Shylender Adi\"\n",
    "age = 35\n",
    "degree = \"MCA\"\n",
    "print(\"My age is {} and i have completed: my degree of {} with the name of {}\".format(age, degree, name))"
   ]
  },
  {
   "cell_type": "code",
   "execution_count": 22,
   "id": "0ddcb3a9-1ae5-4e9a-b1e2-f123f8ab2462",
   "metadata": {},
   "outputs": [
    {
     "name": "stdout",
     "output_type": "stream",
     "text": [
      "My age is 35 and i have completed: my degree of MCA with the name of Shylender Adi\n"
     ]
    }
   ],
   "source": [
    "name = \"Shylender Adi\"\n",
    "age = 35\n",
    "degree = \"MCA\"\n",
    "print(\"My age is {firstage} and i have completed: my degree of {firstdegree} with the name of {myname}\".format(firstage=age, firstdegree=degree, myname=name))"
   ]
  },
  {
   "cell_type": "markdown",
   "id": "e5f9ca15-f1eb-42c5-ba00-1193c5424785",
   "metadata": {},
   "source": [
    "## control flow"
   ]
  },
  {
   "cell_type": "code",
   "execution_count": 25,
   "id": "ab2bb00c-7b22-43b7-a9c3-e74717142360",
   "metadata": {},
   "outputs": [
    {
     "name": "stdout",
     "output_type": "stream",
     "text": [
      "You are eligible for voting\n"
     ]
    }
   ],
   "source": [
    "## If statements\n",
    "age = 18\n",
    "if age >= 18: # colon indicates the start of the if block\n",
    "    print(\"You are eligible for voting\")"
   ]
  },
  {
   "cell_type": "code",
   "execution_count": 26,
   "id": "12a2f942-5def-4733-8705-1c267a4e5ad0",
   "metadata": {},
   "outputs": [
    {
     "name": "stdin",
     "output_type": "stream",
     "text": [
      " Adi Shylender\n"
     ]
    },
    {
     "data": {
      "text/plain": [
       "'Adi Shylender'"
      ]
     },
     "execution_count": 26,
     "metadata": {},
     "output_type": "execute_result"
    }
   ],
   "source": [
    "input()"
   ]
  },
  {
   "cell_type": "code",
   "execution_count": 27,
   "id": "cb2fac5c-6c15-41bb-97c8-fc1d0b6f6512",
   "metadata": {},
   "outputs": [
    {
     "name": "stdin",
     "output_type": "stream",
     "text": [
      " shylender\n"
     ]
    },
    {
     "data": {
      "text/plain": [
       "str"
      ]
     },
     "execution_count": 27,
     "metadata": {},
     "output_type": "execute_result"
    }
   ],
   "source": [
    "type(input())"
   ]
  },
  {
   "cell_type": "code",
   "execution_count": 28,
   "id": "ac5f03ad-3b44-4689-8ac5-9837cc3cc668",
   "metadata": {},
   "outputs": [
    {
     "name": "stdin",
     "output_type": "stream",
     "text": [
      " 123\n"
     ]
    },
    {
     "data": {
      "text/plain": [
       "str"
      ]
     },
     "execution_count": 28,
     "metadata": {},
     "output_type": "execute_result"
    }
   ],
   "source": [
    "type(input())"
   ]
  },
  {
   "cell_type": "code",
   "execution_count": 30,
   "id": "a5478984-dbf1-483f-b57d-8a1160dd6c1c",
   "metadata": {},
   "outputs": [
    {
     "name": "stdin",
     "output_type": "stream",
     "text": [
      "Enter your name: Adi Shylender\n"
     ]
    }
   ],
   "source": [
    "name = input(\"Enter your name:\")"
   ]
  },
  {
   "cell_type": "code",
   "execution_count": 31,
   "id": "7bf221d0-5b64-4f9f-aa4d-643e3a3b31d6",
   "metadata": {},
   "outputs": [
    {
     "name": "stdin",
     "output_type": "stream",
     "text": [
      "Enter your age:  35\n"
     ]
    }
   ],
   "source": [
    "age = int(input(\"Enter your age: \"))"
   ]
  },
  {
   "cell_type": "code",
   "execution_count": 32,
   "id": "8df2a9f4-735b-4783-beb3-809b310d5c9a",
   "metadata": {},
   "outputs": [
    {
     "data": {
      "text/plain": [
       "(str, int)"
      ]
     },
     "execution_count": 32,
     "metadata": {},
     "output_type": "execute_result"
    }
   ],
   "source": [
    "type(name), type(age)"
   ]
  },
  {
   "cell_type": "code",
   "execution_count": null,
   "id": "dddcfda3-e8bf-4065-b301-45a9fbd01f44",
   "metadata": {},
   "outputs": [],
   "source": []
  },
  {
   "cell_type": "code",
   "execution_count": 34,
   "id": "dd4ba5fa-838c-4c7b-886c-d9013b3bca7b",
   "metadata": {},
   "outputs": [
    {
     "name": "stdin",
     "output_type": "stream",
     "text": [
      "Enter your age:  12\n"
     ]
    }
   ],
   "source": [
    "## Task\n",
    "## Take input of age\n",
    "## Check whether age is >=18 and age<= 45\n",
    "## You are youn blood\n",
    "\n",
    "age = int(input(\"Enter your age: \"))\n",
    "if age >= 18 and age <= 45:\n",
    "    print(\"You are young blood\")"
   ]
  },
  {
   "cell_type": "code",
   "execution_count": 36,
   "id": "01848f12-5f4a-4191-a5b1-1ff2c9d6322d",
   "metadata": {},
   "outputs": [
    {
     "name": "stdin",
     "output_type": "stream",
     "text": [
      "Enter your age:  23\n"
     ]
    },
    {
     "name": "stdout",
     "output_type": "stream",
     "text": [
      "You are young blood\n"
     ]
    }
   ],
   "source": [
    "## if else statements\n",
    "age = int(input(\"Enter your age: \"))\n",
    "if age >= 18 and age <= 45:\n",
    "    print(\"You are young blood\")\n",
    "else:\n",
    "    print(\"Thank you, Your application is rejected\")\n"
   ]
  },
  {
   "cell_type": "code",
   "execution_count": 38,
   "id": "a548a725-e874-448c-9455-8648cdfe3aec",
   "metadata": {},
   "outputs": [
    {
     "name": "stdin",
     "output_type": "stream",
     "text": [
      "Enter the product price: 5000\n"
     ]
    },
    {
     "name": "stdout",
     "output_type": "stream",
     "text": [
      "THe product price is 4000\n"
     ]
    }
   ],
   "source": [
    "## Mall - input the product price\n",
    "## any product > 1000 rs 20 % off\n",
    "## print the product price after removing the discount\n",
    "## any product <=1000 rs 30% off\n",
    "## print the produc price\n",
    "\n",
    "product_price = int(input(\"Enter the product price:\"))\n",
    "if product_price > 1000:\n",
    "    print(\"THe product price is {}\".format(int(product_price * 0.8)))\n",
    "else:\n",
    "    print(\"THe product price is {}\".format(int(product_price * 0.7)))\n",
    "          \n",
    "    \n",
    "\n"
   ]
  },
  {
   "cell_type": "code",
   "execution_count": 41,
   "id": "91a91570-daa6-4324-a4af-bdfe245a175f",
   "metadata": {},
   "outputs": [
    {
     "name": "stdin",
     "output_type": "stream",
     "text": [
      "Enter the product price: 2000\n"
     ]
    },
    {
     "name": "stdout",
     "output_type": "stream",
     "text": [
      "THe product price is 1600\n"
     ]
    }
   ],
   "source": [
    "product_price = int(input(\"Enter the product price:\"))\n",
    "if product_price > 1000:\n",
    "    print(f\"THe product price is {int(product_price * 0.8)}\")\n",
    "else:\n",
    "    print(\"THe product price is {}\".format(int(product_price * 0.7)))"
   ]
  },
  {
   "cell_type": "code",
   "execution_count": 3,
   "id": "9533b14e-3a06-4e53-8afd-ac64e618d243",
   "metadata": {},
   "outputs": [
    {
     "name": "stdin",
     "output_type": "stream",
     "text": [
      "Enter the product price: 2222\n"
     ]
    },
    {
     "name": "stdout",
     "output_type": "stream",
     "text": [
      "THe product price is 1555\n"
     ]
    }
   ],
   "source": [
    "## mall - input the product pricce\n",
    "## product > 3000 rs 20% off\n",
    "## print the product price after removing the discount\n",
    "## product >= 2000 rs and <= 3000 30% off\n",
    "## print the product price after removing the discount\n",
    "## product >= 1000 rs and <= 2000 rs 40% off\n",
    "## print the product price after removing the discount\n",
    "\n",
    "product_price = int(input(\"Enter the product price:\"))\n",
    "if product_price > 3000:\n",
    "    print(f\"THe product price is {int(product_price * 0.8)}\")\n",
    "elif product_price >= 2000 and product_price <= 3000:\n",
    "    print(f\"THe product price is {int(product_price * 0.7)}\")    \n",
    "elif product_price >= 1000 and product_price < 2000:\n",
    "    print(\"THe product price is {}\".format(int(product_price * 0.6)))"
   ]
  },
  {
   "cell_type": "code",
   "execution_count": 4,
   "id": "505678cb-72c0-4a81-aefd-34e0dd2f2b8a",
   "metadata": {},
   "outputs": [
    {
     "name": "stdin",
     "output_type": "stream",
     "text": [
      "Enter the number:  2000\n"
     ]
    },
    {
     "name": "stdout",
     "output_type": "stream",
     "text": [
      "Go to home\n"
     ]
    }
   ],
   "source": [
    "## single statements suits\n",
    "val = int(input(\"Enter the number: \"))\n",
    "if (val==999): print(\"value is less than or equal to 999\")\n",
    "else:\n",
    "    print(\"Go to home\")"
   ]
  },
  {
   "cell_type": "code",
   "execution_count": null,
   "id": "d98b3d9b-dfaf-4c46-8534-ca303a92832a",
   "metadata": {},
   "outputs": [],
   "source": []
  }
 ],
 "metadata": {
  "kernelspec": {
   "display_name": "Python 3 (ipykernel)",
   "language": "python",
   "name": "python3"
  },
  "language_info": {
   "codemirror_mode": {
    "name": "ipython",
    "version": 3
   },
   "file_extension": ".py",
   "mimetype": "text/x-python",
   "name": "python",
   "nbconvert_exporter": "python",
   "pygments_lexer": "ipython3",
   "version": "3.10.8"
  }
 },
 "nbformat": 4,
 "nbformat_minor": 5
}
